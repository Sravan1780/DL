{
 "cells": [
  {
   "cell_type": "code",
   "execution_count": 1,
   "metadata": {},
   "outputs": [],
   "source": [
    "import numpy as np\n",
    "import pandas as pd\n",
    "import matplotlib.pyplot as plt\n",
    "from graphviz import Digraph"
   ]
  },
  {
   "cell_type": "code",
   "execution_count": 2,
   "metadata": {},
   "outputs": [],
   "source": [
    "def f(x):\n",
    "    return 3 * x ** 2 - 4 * x + 5"
   ]
  },
  {
   "cell_type": "code",
   "execution_count": 3,
   "metadata": {},
   "outputs": [
    {
     "data": {
      "text/plain": [
       "20"
      ]
     },
     "execution_count": 3,
     "metadata": {},
     "output_type": "execute_result"
    }
   ],
   "source": [
    "f(3)"
   ]
  },
  {
   "cell_type": "code",
   "execution_count": 4,
   "metadata": {},
   "outputs": [
    {
     "data": {
      "text/plain": [
       "[<matplotlib.lines.Line2D at 0x226469dfb60>]"
      ]
     },
     "execution_count": 4,
     "metadata": {},
     "output_type": "execute_result"
    },
    {
     "data": {
      "image/png": "[encoded data removed]",
      "text/plain": [
       "<Figure size 640x480 with 1 Axes>"
      ]
     },
     "metadata": {},
     "output_type": "display_data"
    }
   ],
   "source": [
    "x = np.arange(-7,7,0.25)\n",
    "y = f(x)\n",
    "plt.plot(x, y)"
   ]
  },
  {
   "cell_type": "code",
   "execution_count": 5,
   "metadata": {},
   "outputs": [
    {
     "data": {
      "text/plain": [
       "14.000300000063248"
      ]
     },
     "execution_count": 5,
     "metadata": {},
     "output_type": "execute_result"
    }
   ],
   "source": [
    "h = 0.0001\n",
    "x = 3\n",
    "(f(x + h) - f(x)) / h"
   ]
  },
  {
   "cell_type": "code",
   "execution_count": 6,
   "metadata": {},
   "outputs": [
    {
     "data": {
      "text/plain": [
       "4"
      ]
     },
     "execution_count": 6,
     "metadata": {},
     "output_type": "execute_result"
    }
   ],
   "source": [
    "a = 2\n",
    "b = -3 \n",
    "c = 10\n",
    "d = a * b + c\n",
    "d "
   ]
  },
  {
   "cell_type": "code",
   "execution_count": 7,
   "metadata": {},
   "outputs": [
    {
     "data": {
      "text/plain": [
       "(4, 3.997, -3.0000000000001137)"
      ]
     },
     "execution_count": 7,
     "metadata": {},
     "output_type": "execute_result"
    }
   ],
   "source": [
    "h = 0.001\n",
    "a += h\n",
    "\n",
    "d1 = a * b + c\n",
    "slope = (d1 - d) / h\n",
    "d,d1,slope"
   ]
  },
  {
   "cell_type": "code",
   "execution_count": 8,
   "metadata": {},
   "outputs": [
    {
     "data": {
      "text/plain": [
       "Value(data=4)"
      ]
     },
     "execution_count": 8,
     "metadata": {},
     "output_type": "execute_result"
    }
   ],
   "source": [
    "class Value:\n",
    "    def __init__(self,data,_children=(),_op=(),label='',grad=0):\n",
    "        self.data = data\n",
    "        self.grad = 0.0\n",
    "        self._prev = set(_children)\n",
    "        self._op = _op\n",
    "        self.label = label\n",
    "        \n",
    "    def __repr__(self):\n",
    "        return f\"Value(data={self.data})\"\n",
    "    \n",
    "    def __add__(self,other):\n",
    "        return Value(self.data + other.data,(self,other),'+')\n",
    "    \n",
    "    def __mul__(self,other):\n",
    "        return Value(self.data * other.data,(self,other),'*')\n",
    "    \n",
    "    \n",
    "a = Value(2,label='a')\n",
    "b = Value(-3,label='b')\n",
    "c = Value(10,label='c')\n",
    "e = a * b; e.label='e'\n",
    "d = e + c; d.label='d'\n",
    "d"
   ]
  },
  {
   "cell_type": "code",
   "execution_count": 9,
   "metadata": {},
   "outputs": [
    {
     "data": {
      "text/plain": [
       "{Value(data=-6), Value(data=10)}"
      ]
     },
     "execution_count": 9,
     "metadata": {},
     "output_type": "execute_result"
    }
   ],
   "source": [
    "d._prev"
   ]
  },
  {
   "cell_type": "code",
   "execution_count": 10,
   "metadata": {},
   "outputs": [
    {
     "data": {
      "text/plain": [
       "'+'"
      ]
     },
     "execution_count": 10,
     "metadata": {},
     "output_type": "execute_result"
    }
   ],
   "source": [
    "d._op"
   ]
  },
  {
   "cell_type": "code",
   "execution_count": 11,
   "metadata": {},
   "outputs": [],
   "source": [
    "# %pip install graphviz\n",
    "def trace(root):\n",
    "    # builds a set of all nodes and edges in a graph \n",
    "    nodes, edges = set(), set()\n",
    "\n",
    "    def build(v):\n",
    "        if v not in nodes:\n",
    "            nodes.add(v)\n",
    "            for child in v._prev:\n",
    "                edges.add((child, v))\n",
    "                build(child)\n",
    "    build(root)\n",
    "    return nodes, edges\n",
    "\n",
    "def draw_dot(root):\n",
    "    dot = Digraph(format='svg', graph_attr={'rankdir': 'LR'})  # LR = left to right \n",
    "    nodes, edges = trace(root)\n",
    "    for n in nodes:\n",
    "        uid = str(id(n))\n",
    "        label = getattr(n, 'label', '')  # Use an empty string if 'label' is not found\n",
    "        # for any value in the graph, create a rectangular ('record') node for it \n",
    "        dot.node(name=uid, label=\"{ %s | data %.4f | grad %.4f}\" % (label, n.data,n.grad), shape='record')\n",
    "        if n._op:\n",
    "            # if this value is a result of some operation, create an op node for it \n",
    "            op_uid = uid + n._op\n",
    "            dot.node(name=op_uid, label=n._op)\n",
    "            # and connect this node to it \n",
    "            dot.edge(op_uid, uid)\n",
    "    for n1, n2 in edges:\n",
    "        # connect n1 to the op node of n2 \n",
    "        dot.edge(str(id(n1)), str(id(n2)) + n2._op)\n",
    "    return dot\n"
   ]
  },
  {
   "cell_type": "code",
   "execution_count": 12,
   "metadata": {},
   "outputs": [
    {
     "data": {
      "image/svg+xml": [
       "<?xml version=\"1.0\" encoding=\"UTF-8\" standalone=\"no\"?>\n",
       "<!DOCTYPE svg PUBLIC \"-//W3C//DTD SVG 1.1//EN\"\n",
       " \"http://www.w3.org/Graphics/SVG/1.1/DTD/svg11.dtd\">\n",
       "<!-- Generated by graphviz version 12.2.1 (20241206.2353)\n",
       " -->\n",
       "<!-- Pages: 1 -->\n",
       "<svg width=\"822pt\" height=\"128pt\"\n",
       " viewBox=\"0.00 0.00 821.75 128.00\" xmlns=\"http://www.w3.org/2000/svg\" xmlns:xlink=\"http://www.w3.org/1999/xlink\">\n",
       "<g id=\"graph0\" class=\"graph\" transform=\"scale(1 1) rotate(0) translate(4 124)\">\n",
       "<polygon fill=\"white\" stroke=\"none\" points=\"-4,4 -4,-124 817.75,-124 817.75,4 -4,4\"/>\n",
       "<!-- 2363417304608 -->\n",
       "<g id=\"node1\" class=\"node\">\n",
       "<title>2363417304608</title>\n",
       "<polygon fill=\"none\" stroke=\"black\" points=\"630,-27.5 630,-63.5 813.75,-63.5 813.75,-27.5 630,-27.5\"/>\n",
       "<text text-anchor=\"middle\" x=\"641.38\" y=\"-40.7\" font-family=\"Times New Roman,serif\" font-size=\"14.00\">d</text>\n",
       "<polyline fill=\"none\" stroke=\"black\" points=\"652.75,-28 652.75,-63.5\"/>\n",
       "<text text-anchor=\"middle\" x=\"692.62\" y=\"-40.7\" font-family=\"Times New Roman,serif\" font-size=\"14.00\">data 4.0000</text>\n",
       "<polyline fill=\"none\" stroke=\"black\" points=\"732.5,-28 732.5,-63.5\"/>\n",
       "<text text-anchor=\"middle\" x=\"773.12\" y=\"-40.7\" font-family=\"Times New Roman,serif\" font-size=\"14.00\">grad 0.0000</text>\n",
       "</g>\n",
       "<!-- 2363417304608+ -->\n",
       "<g id=\"node2\" class=\"node\">\n",
       "<title>2363417304608+</title>\n",
       "<ellipse fill=\"none\" stroke=\"black\" cx=\"567\" cy=\"-45.5\" rx=\"27\" ry=\"18\"/>\n",
       "<text text-anchor=\"middle\" x=\"567\" y=\"-40.45\" font-family=\"Times New Roman,serif\" font-size=\"14.00\">+</text>\n",
       "</g>\n",
       "<!-- 2363417304608+&#45;&gt;2363417304608 -->\n",
       "<g id=\"edge1\" class=\"edge\">\n",
       "<title>2363417304608+&#45;&gt;2363417304608</title>\n",
       "<path fill=\"none\" stroke=\"black\" d=\"M594.28,-45.5C601.42,-45.5 609.61,-45.5 618.32,-45.5\"/>\n",
       "<polygon fill=\"black\" stroke=\"black\" points=\"618.06,-49 628.06,-45.5 618.06,-42 618.06,-49\"/>\n",
       "</g>\n",
       "<!-- 2363417194288 -->\n",
       "<g id=\"node3\" class=\"node\">\n",
       "<title>2363417194288</title>\n",
       "<polygon fill=\"none\" stroke=\"black\" points=\"315.38,-55.5 315.38,-91.5 502.88,-91.5 502.88,-55.5 315.38,-55.5\"/>\n",
       "<text text-anchor=\"middle\" x=\"326.38\" y=\"-68.7\" font-family=\"Times New Roman,serif\" font-size=\"14.00\">e</text>\n",
       "<polyline fill=\"none\" stroke=\"black\" points=\"337.38,-56 337.38,-91.5\"/>\n",
       "<text text-anchor=\"middle\" x=\"379.5\" y=\"-68.7\" font-family=\"Times New Roman,serif\" font-size=\"14.00\">data &#45;6.0000</text>\n",
       "<polyline fill=\"none\" stroke=\"black\" points=\"421.62,-56 421.62,-91.5\"/>\n",
       "<text text-anchor=\"middle\" x=\"462.25\" y=\"-68.7\" font-family=\"Times New Roman,serif\" font-size=\"14.00\">grad 0.0000</text>\n",
       "</g>\n",
       "<!-- 2363417194288&#45;&gt;2363417304608+ -->\n",
       "<g id=\"edge5\" class=\"edge\">\n",
       "<title>2363417194288&#45;&gt;2363417304608+</title>\n",
       "<path fill=\"none\" stroke=\"black\" d=\"M503.05,-56.81C512.25,-55.16 521.16,-53.56 529.24,-52.1\"/>\n",
       "<polygon fill=\"black\" stroke=\"black\" points=\"529.71,-55.58 538.93,-50.36 528.47,-48.69 529.71,-55.58\"/>\n",
       "</g>\n",
       "<!-- 2363417194288* -->\n",
       "<g id=\"node4\" class=\"node\">\n",
       "<title>2363417194288*</title>\n",
       "<ellipse fill=\"none\" stroke=\"black\" cx=\"251.25\" cy=\"-73.5\" rx=\"27\" ry=\"18\"/>\n",
       "<text text-anchor=\"middle\" x=\"251.25\" y=\"-68.45\" font-family=\"Times New Roman,serif\" font-size=\"14.00\">*</text>\n",
       "</g>\n",
       "<!-- 2363417194288*&#45;&gt;2363417194288 -->\n",
       "<g id=\"edge2\" class=\"edge\">\n",
       "<title>2363417194288*&#45;&gt;2363417194288</title>\n",
       "<path fill=\"none\" stroke=\"black\" d=\"M278.69,-73.5C286.1,-73.5 294.64,-73.5 303.71,-73.5\"/>\n",
       "<polygon fill=\"black\" stroke=\"black\" points=\"303.51,-77 313.51,-73.5 303.51,-70 303.51,-77\"/>\n",
       "</g>\n",
       "<!-- 2363416756592 -->\n",
       "<g id=\"node5\" class=\"node\">\n",
       "<title>2363416756592</title>\n",
       "<polygon fill=\"none\" stroke=\"black\" points=\"2.62,-83.5 2.62,-119.5 185.62,-119.5 185.62,-83.5 2.62,-83.5\"/>\n",
       "<text text-anchor=\"middle\" x=\"13.62\" y=\"-96.7\" font-family=\"Times New Roman,serif\" font-size=\"14.00\">a</text>\n",
       "<polyline fill=\"none\" stroke=\"black\" points=\"24.62,-84 24.62,-119.5\"/>\n",
       "<text text-anchor=\"middle\" x=\"64.5\" y=\"-96.7\" font-family=\"Times New Roman,serif\" font-size=\"14.00\">data 2.0000</text>\n",
       "<polyline fill=\"none\" stroke=\"black\" points=\"104.38,-84 104.38,-119.5\"/>\n",
       "<text text-anchor=\"middle\" x=\"145\" y=\"-96.7\" font-family=\"Times New Roman,serif\" font-size=\"14.00\">grad 0.0000</text>\n",
       "</g>\n",
       "<!-- 2363416756592&#45;&gt;2363417194288* -->\n",
       "<g id=\"edge6\" class=\"edge\">\n",
       "<title>2363416756592&#45;&gt;2363417194288*</title>\n",
       "<path fill=\"none\" stroke=\"black\" d=\"M185.81,-85.13C195.66,-83.35 205.21,-81.63 213.82,-80.08\"/>\n",
       "<polygon fill=\"black\" stroke=\"black\" points=\"214.19,-83.57 223.41,-78.34 212.95,-76.68 214.19,-83.57\"/>\n",
       "</g>\n",
       "<!-- 2363416178048 -->\n",
       "<g id=\"node6\" class=\"node\">\n",
       "<title>2363416178048</title>\n",
       "<polygon fill=\"none\" stroke=\"black\" points=\"0,-28.5 0,-64.5 188.25,-64.5 188.25,-28.5 0,-28.5\"/>\n",
       "<text text-anchor=\"middle\" x=\"11.38\" y=\"-41.7\" font-family=\"Times New Roman,serif\" font-size=\"14.00\">b</text>\n",
       "<polyline fill=\"none\" stroke=\"black\" points=\"22.75,-29 22.75,-64.5\"/>\n",
       "<text text-anchor=\"middle\" x=\"64.88\" y=\"-41.7\" font-family=\"Times New Roman,serif\" font-size=\"14.00\">data &#45;3.0000</text>\n",
       "<polyline fill=\"none\" stroke=\"black\" points=\"107,-29 107,-64.5\"/>\n",
       "<text text-anchor=\"middle\" x=\"147.62\" y=\"-41.7\" font-family=\"Times New Roman,serif\" font-size=\"14.00\">grad 0.0000</text>\n",
       "</g>\n",
       "<!-- 2363416178048&#45;&gt;2363417194288* -->\n",
       "<g id=\"edge3\" class=\"edge\">\n",
       "<title>2363416178048&#45;&gt;2363417194288*</title>\n",
       "<path fill=\"none\" stroke=\"black\" d=\"M188.49,-62.75C197.27,-64.28 205.77,-65.76 213.51,-67.1\"/>\n",
       "<polygon fill=\"black\" stroke=\"black\" points=\"212.66,-70.51 223.11,-68.78 213.86,-63.61 212.66,-70.51\"/>\n",
       "</g>\n",
       "<!-- 2363417188768 -->\n",
       "<g id=\"node7\" class=\"node\">\n",
       "<title>2363417188768</title>\n",
       "<polygon fill=\"none\" stroke=\"black\" points=\"314.25,-0.5 314.25,-36.5 504,-36.5 504,-0.5 314.25,-0.5\"/>\n",
       "<text text-anchor=\"middle\" x=\"325.25\" y=\"-13.7\" font-family=\"Times New Roman,serif\" font-size=\"14.00\">c</text>\n",
       "<polyline fill=\"none\" stroke=\"black\" points=\"336.25,-1 336.25,-36.5\"/>\n",
       "<text text-anchor=\"middle\" x=\"379.5\" y=\"-13.7\" font-family=\"Times New Roman,serif\" font-size=\"14.00\">data 10.0000</text>\n",
       "<polyline fill=\"none\" stroke=\"black\" points=\"422.75,-1 422.75,-36.5\"/>\n",
       "<text text-anchor=\"middle\" x=\"463.38\" y=\"-13.7\" font-family=\"Times New Roman,serif\" font-size=\"14.00\">grad 0.0000</text>\n",
       "</g>\n",
       "<!-- 2363417188768&#45;&gt;2363417304608+ -->\n",
       "<g id=\"edge4\" class=\"edge\">\n",
       "<title>2363417188768&#45;&gt;2363417304608+</title>\n",
       "<path fill=\"none\" stroke=\"black\" d=\"M504.39,-34.83C513.16,-36.35 521.65,-37.82 529.37,-39.15\"/>\n",
       "<polygon fill=\"black\" stroke=\"black\" points=\"528.5,-42.56 538.95,-40.81 529.69,-35.66 528.5,-42.56\"/>\n",
       "</g>\n",
       "</g>\n",
       "</svg>\n"
      ],
      "text/plain": [
       "<graphviz.graphs.Digraph at 0x226468ec1a0>"
      ]
     },
     "execution_count": 12,
     "metadata": {},
     "output_type": "execute_result"
    }
   ],
   "source": [
    "draw_dot(d)"
   ]
  },
  {
   "cell_type": "code",
   "execution_count": null,
   "metadata": {},
   "outputs": [],
   "source": []
  },
  {
   "cell_type": "code",
   "execution_count": null,
   "metadata": {},
   "outputs": [],
   "source": []
  },
  {
   "cell_type": "code",
   "execution_count": null,
   "metadata": {},
   "outputs": [],
   "source": []
  },
  {
   "cell_type": "code",
   "execution_count": null,
   "metadata": {},
   "outputs": [],
   "source": []
  },
  {
   "cell_type": "code",
   "execution_count": null,
   "metadata": {},
   "outputs": [],
   "source": []
  }
 ],
 "metadata": {
  "kernelspec": {
   "display_name": "Python 3",
   "language": "python",
   "name": "python3"
  },
  "language_info": {
   "codemirror_mode": {
    "name": "ipython",
    "version": 3
   },
   "file_extension": ".py",
   "mimetype": "text/x-python",
   "name": "python",
   "nbconvert_exporter": "python",
   "pygments_lexer": "ipython3",
   "version": "3.12.2"
  }
 },
 "nbformat": 4,
 "nbformat_minor": 2
}
